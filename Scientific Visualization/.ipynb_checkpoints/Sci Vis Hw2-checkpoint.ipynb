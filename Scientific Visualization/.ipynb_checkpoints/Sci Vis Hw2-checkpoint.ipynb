{
 "metadata": {
  "name": "",
  "signature": "sha256:be413b3742ff7650f1c21623c81855a408ea509ff9bfcf4a1c67af173ba78e02"
 },
 "nbformat": 3,
 "nbformat_minor": 0,
 "worksheets": [
  {
   "cells": [
    {
     "cell_type": "markdown",
     "metadata": {},
     "source": [
      "#Average Position of Grid Points for Cylinder:\n",
      "- x,y,z had ranges -5.75 to 5.75,-5.75 to 5.75,-10 to 10.2\n",
      "- x,y,z had average values .01,.002,2.6\n",
      "- this shows that x and y are evenly distributed while z is not.\n",
      "\n",
      "#Average Position of Grid Points for Tornado:\n",
      "- x,y,z had ranges 0 to 47,0 to 47,0 to 47\n",
      "- x,y,z are evenly distributed because the data is of type uniform rectilinear grid.\n",
      "- it can't be anything other than evenly distributed\n",
      "\n",
      "##and now, ncdump of our example data file"
     ]
    },
    {
     "cell_type": "code",
     "collapsed": false,
     "input": [
      "def get_ncdump(fName, header_only=0):\n",
      "    if header_only:\n",
      "        szDump = !/usr/local/Cellar/netcdf/4.3.2_1/bin/ncdump -h $fName\n",
      "    else:\n",
      "        szDump = !/usr/local/Cellar/netcdf/4.3.2_1/bin/ncdump $fName\n",
      "    szDump = '\\n'.join(szDump)\n",
      "    szDump=szDump.encode('string_escape').replace('\\\\t','\\t').replace('\\\\n','\\n').replace('\\\\',' ')\n",
      "    return szDump"
     ],
     "language": "python",
     "metadata": {},
     "outputs": [],
     "prompt_number": 1
    },
    {
     "cell_type": "code",
     "collapsed": false,
     "input": [
      "a = get_ncdump('/Users/calvinehicks/Desktop/school/Scientific\\ Visualization/Assignment2_Data_Files/tos_O1_2001-2002.nc', header_only = 1)\n",
      "print a"
     ],
     "language": "python",
     "metadata": {},
     "outputs": [
      {
       "output_type": "stream",
       "stream": "stdout",
       "text": [
        "netcdf tos_O1_2001-2002 {\n",
        "dimensions:\n",
        "\tlon = 180 ;\n",
        "\tlat = 170 ;\n",
        "\ttime = UNLIMITED ; // (24 currently)\n",
        "\tbnds = 2 ;\n",
        "variables:\n",
        "\tdouble lon(lon) ;\n",
        "\t\tlon:standard_name = \"longitude\" ;\n",
        "\t\tlon:long_name = \"longitude\" ;\n",
        "\t\tlon:units = \"degrees_east\" ;\n",
        "\t\tlon:axis = \"X\" ;\n",
        "\t\tlon:bounds = \"lon_bnds\" ;\n",
        "\t\tlon:original_units = \"degrees_east\" ;\n",
        "\tdouble lon_bnds(lon, bnds) ;\n",
        "\tdouble lat(lat) ;\n",
        "\t\tlat:standard_name = \"latitude\" ;\n",
        "\t\tlat:long_name = \"latitude\" ;\n",
        "\t\tlat:units = \"degrees_north\" ;\n",
        "\t\tlat:axis = \"Y\" ;\n",
        "\t\tlat:bounds = \"lat_bnds\" ;\n",
        "\t\tlat:original_units = \"degrees_north\" ;\n",
        "\tdouble lat_bnds(lat, bnds) ;\n",
        "\tdouble time(time) ;\n",
        "\t\ttime:standard_name = \"time\" ;\n",
        "\t\ttime:long_name = \"time\" ;\n",
        "\t\ttime:units = \"days since 2001-1-1\" ;\n",
        "\t\ttime:axis = \"T\" ;\n",
        "\t\ttime:calendar = \"360_day\" ;\n",
        "\t\ttime:bounds = \"time_bnds\" ;\n",
        "\t\ttime:original_units = \"seconds since 2001-1-1\" ;\n",
        "\tdouble time_bnds(time, bnds) ;\n",
        "\tfloat tos(time, lat, lon) ;\n",
        "\t\ttos:standard_name = \"sea_surface_temperature\" ;\n",
        "\t\ttos:long_name = \"Sea Surface Temperature\" ;\n",
        "\t\ttos:units = \"K\" ;\n",
        "\t\ttos:cell_methods = \"time: mean (interval: 30 minutes)\" ;\n",
        "\t\ttos:_FillValue = 1.e+20f ;\n",
        "\t\ttos:missing_value = 1.e+20f ;\n",
        "\t\ttos:original_name = \"sosstsst\" ;\n",
        "\t\ttos:original_units = \"degC\" ;\n",
        "\t\ttos:history = \" At   16:37:23 on 01/11/2005: CMOR altered the data in the following ways: added 2.73150E+02 to yield output units;  Cyclical dimension was output starting at a different lon;\" ;\n",
        "\n",
        "// global attributes:\n",
        "\t\t:title = \"IPSL  model output prepared for IPCC Fourth Assessment SRES A2 experiment\" ;\n",
        "\t\t:institution = \"IPSL (Institut Pierre Simon Laplace, Paris, France)\" ;\n",
        "\t\t:source = \"IPSL-CM4_v1 (2003) : atmosphere : LMDZ (IPSL-CM4_IPCC, 96x71x19) ; ocean ORCA2 (ipsl_cm4_v1_8, 2x2L31); sea ice LIM (ipsl_cm4_v\" ;\n",
        "\t\t:contact = \"Sebastien Denvil, sebastien.denvil@ipsl.jussieu.fr\" ;\n",
        "\t\t:project_id = \"IPCC Fourth Assessment\" ;\n",
        "\t\t:table_id = \"Table O1 (13 November 2004)\" ;\n",
        "\t\t:experiment_id = \"SRES A2 experiment\" ;\n",
        "\t\t:realization = 1 ;\n",
        "\t\t:cmor_version = 0.96f ;\n",
        "\t\t:Conventions = \"CF-1.0\" ;\n",
        "\t\t:history = \"YYYY/MM/JJ: data generated; YYYY/MM/JJ+1 data transformed  At 16:37:23 on 01/11/2005, CMOR rewrote data to comply with CF standards and IPCC Fourth Assessment requirements\" ;\n",
        "\t\t:references = \"Dufresne et al, Journal of Climate, 2015, vol XX, p 136\" ;\n",
        "\t\t:comment = \"Test drive\" ;\n",
        "}\n"
       ]
      }
     ],
     "prompt_number": 4
    },
    {
     "cell_type": "markdown",
     "metadata": {},
     "source": [
      "\n",
      "\n",
      "##The above dataset contains ocean surface temperature information based off longitude latitude and time.\n",
      "\n",
      "\n",
      "\n",
      "\n",
      "\n",
      "."
     ]
    },
    {
     "cell_type": "code",
     "collapsed": false,
     "input": [
      "from netCDF4 import Dataset    \n",
      "import numpy as np\n",
      "\n",
      "# open a new netCDF file to write to\n",
      "ncfile = Dataset('/Users/calvineh/Desktop/school/test/file/',mode=w, format='NETCDF4') "
     ],
     "language": "python",
     "metadata": {},
     "outputs": [
      {
       "ename": "RuntimeError",
       "evalue": "Permission denied",
       "output_type": "pyerr",
       "traceback": [
        "\u001b[0;31m---------------------------------------------------------------------------\u001b[0m\n\u001b[0;31mRuntimeError\u001b[0m                              Traceback (most recent call last)",
        "\u001b[0;32m<ipython-input-24-fdf95835baf1>\u001b[0m in \u001b[0;36m<module>\u001b[0;34m()\u001b[0m\n\u001b[1;32m      3\u001b[0m \u001b[0;34m\u001b[0m\u001b[0m\n\u001b[1;32m      4\u001b[0m \u001b[0;31m# open a new netCDF file to write to\u001b[0m\u001b[0;34m\u001b[0m\u001b[0;34m\u001b[0m\u001b[0m\n\u001b[0;32m----> 5\u001b[0;31m \u001b[0mncfile\u001b[0m \u001b[0;34m=\u001b[0m \u001b[0mDataset\u001b[0m\u001b[0;34m(\u001b[0m\u001b[0;34m'/Users/calvineh/Desktop/school/test/file/'\u001b[0m\u001b[0;34m,\u001b[0m\u001b[0mmode\u001b[0m\u001b[0;34m=\u001b[0m\u001b[0;34m'w'\u001b[0m\u001b[0;34m,\u001b[0m \u001b[0mformat\u001b[0m\u001b[0;34m=\u001b[0m\u001b[0;34m'NETCDF4'\u001b[0m\u001b[0;34m)\u001b[0m\u001b[0;34m\u001b[0m\u001b[0m\n\u001b[0m",
        "\u001b[0;32m/Users/calvinehicks/anaconda/lib/python2.7/site-packages/netCDF4.so\u001b[0m in \u001b[0;36mnetCDF4.Dataset.__init__ (netCDF4.c:19736)\u001b[0;34m()\u001b[0m\n",
        "\u001b[0;31mRuntimeError\u001b[0m: Permission denied"
       ]
      }
     ],
     "prompt_number": 24
    },
    {
     "cell_type": "code",
     "collapsed": false,
     "input": [
      "#imports netCDF and creates a file to write to"
     ],
     "language": "python",
     "metadata": {},
     "outputs": [],
     "prompt_number": 6
    },
    {
     "cell_type": "code",
     "collapsed": false,
     "input": [
      "# create 2 dimensions x,y each with size 100. \n",
      "x_dim  = ncfile.createDimension('x',100)\n",
      "y_dim  = ncfile.createDimension('y',100)\n",
      "\n",
      "# get the size of each dimension\n",
      "size_x = len(x_dim)\n",
      "size_y = len(y_dim)"
     ],
     "language": "python",
     "metadata": {},
     "outputs": [],
     "prompt_number": 56
    },
    {
     "cell_type": "code",
     "collapsed": false,
     "input": [
      "#creates a 2 dementional matrix"
     ],
     "language": "python",
     "metadata": {},
     "outputs": [],
     "prompt_number": 57
    },
    {
     "cell_type": "code",
     "collapsed": false,
     "input": [
      "vx = ncfile.createVariable('x', np.float32, ('x',))\n",
      "vx.units = 'integers'\n",
      "vx.long_name = 'x data'\n",
      "\n",
      "vy = ncfile.createVariable('y', np.float32, ('y',))\n",
      "vy.units = 'integers'\n",
      "vy.long_name = 'y data'"
     ],
     "language": "python",
     "metadata": {},
     "outputs": [],
     "prompt_number": 58
    },
    {
     "cell_type": "code",
     "collapsed": false,
     "input": [
      "# write data to variable.\n",
      "vx[:] = 180. + (180./size_x)*np.arange(size_x)\n",
      "vy[:] =  90. + (180./size_y)*np.arange(size_y)"
     ],
     "language": "python",
     "metadata": {},
     "outputs": [],
     "prompt_number": 60
    },
    {
     "cell_type": "markdown",
     "metadata": {},
     "source": [
      "# in above code\n",
      "##adding a portion of the number 180 to x and 90 to y with initial starting points (same math equation used in example)"
     ]
    },
    {
     "cell_type": "code",
     "collapsed": false,
     "input": [
      "# lets add some attributes to describe us and our Dataset\n",
      "ncfile.title  = 'Sample 3D dataset'\n",
      "ncfile.date   = 'Tuesday, Jan 27 2015'\n",
      "ncfile.author = 'Yours truely'\n",
      "ncfile.motto  = 'Having fun in the process - thats our motto!'\n",
      "ncfile.description = 'A dataset with 3 dimensions, x,y,z filled with some funky degree information'"
     ],
     "language": "python",
     "metadata": {},
     "outputs": [],
     "prompt_number": 61
    },
    {
     "cell_type": "code",
     "collapsed": false,
     "input": [
      "# close the file.\n",
      "ncfile.close()\n",
      "print 'File Successfully Written!'"
     ],
     "language": "python",
     "metadata": {},
     "outputs": [
      {
       "output_type": "stream",
       "stream": "stdout",
       "text": [
        "File Successfully Written!\n"
       ]
      }
     ],
     "prompt_number": 62
    },
    {
     "cell_type": "code",
     "collapsed": false,
     "input": [
      "def get_ncdump(fName, header_only=0):\n",
      "    if header_only:\n",
      "        szDump = !/usr/local/Cellar/netcdf/4.3.2_1/bin/ncdump -h $fName\n",
      "    else:\n",
      "        szDump = !/usr/local/Cellar/netcdf/4.3.2_1/bin/ncdump $fName\n",
      "    szDump = '\\n'.join(szDump)\n",
      "    szDump=szDump.encode('string_escape').replace('\\\\t','\\t').replace('\\\\n','\\n').replace('\\\\',' ')\n",
      "    return szDump\n",
      "\n",
      "ncdata = get_ncdump('/Users/calvineh/Desktop/school/file', header_only = 0)\n",
      "print ncdata"
     ],
     "language": "python",
     "metadata": {},
     "outputs": [
      {
       "output_type": "stream",
       "stream": "stdout",
       "text": [
        "netcdf file {\n",
        "dimensions:\n",
        "\tx = 100 ;\n",
        "\ty = 100 ;\n",
        "variables:\n",
        "\tfloat x(x) ;\n",
        "\t\tx:units = \"integers\" ;\n",
        "\t\tx:long_name = \"x data\" ;\n",
        "\tfloat y(y) ;\n",
        "\t\ty:units = \"integers\" ;\n",
        "\t\ty:long_name = \"y data\" ;\n",
        "\n",
        "// global attributes:\n",
        "\t\t:title = \"Sample 3D dataset\" ;\n",
        "\t\t:date = \"Tuesday, Jan 27 2015\" ;\n",
        "\t\t:author = \"Yours truely\" ;\n",
        "\t\t:motto = \"Having fun in the process - thats our motto!\" ;\n",
        "\t\t:description = \"A dataset with 3 dimensions, x,y,z filled with some funky degree information\" ;\n",
        "data:\n",
        "\n",
        " x = 180, 181.8, 183.6, 185.4, 187.2, 189, 190.8, 192.6, 194.4, 196.2, 198, \n",
        "    199.8, 201.6, 203.4, 205.2, 207, 208.8, 210.6, 212.4, 214.2, 216, 217.8, \n",
        "    219.6, 221.4, 223.2, 225, 226.8, 228.6, 230.4, 232.2, 234, 235.8, 237.6, \n",
        "    239.4, 241.2, 243, 244.8, 246.6, 248.4, 250.2, 252, 253.8, 255.6, 257.4, \n",
        "    259.2, 261, 262.8, 264.6, 266.4, 268.2, 270, 271.8, 273.6, 275.4, 277.2, \n",
        "    279, 280.8, 282.6, 284.4, 286.2, 288, 289.8, 291.6, 293.4, 295.2, 297, \n",
        "    298.8, 300.6, 302.4, 304.2, 306, 307.8, 309.6, 311.4, 313.2, 315, 316.8, \n",
        "    318.6, 320.4, 322.2, 324, 325.8, 327.6, 329.4, 331.2, 333, 334.8, 336.6, \n",
        "    338.4, 340.2, 342, 343.8, 345.6, 347.4, 349.2, 351, 352.8, 354.6, 356.4, \n",
        "    358.2 ;\n",
        "\n",
        " y = 90, 91.8, 93.6, 95.4, 97.2, 99, 100.8, 102.6, 104.4, 106.2, 108, 109.8, \n",
        "    111.6, 113.4, 115.2, 117, 118.8, 120.6, 122.4, 124.2, 126, 127.8, 129.6, \n",
        "    131.4, 133.2, 135, 136.8, 138.6, 140.4, 142.2, 144, 145.8, 147.6, 149.4, \n",
        "    151.2, 153, 154.8, 156.6, 158.4, 160.2, 162, 163.8, 165.6, 167.4, 169.2, \n",
        "    171, 172.8, 174.6, 176.4, 178.2, 180, 181.8, 183.6, 185.4, 187.2, 189, \n",
        "    190.8, 192.6, 194.4, 196.2, 198, 199.8, 201.6, 203.4, 205.2, 207, 208.8, \n",
        "    210.6, 212.4, 214.2, 216, 217.8, 219.6, 221.4, 223.2, 225, 226.8, 228.6, \n",
        "    230.4, 232.2, 234, 235.8, 237.6, 239.4, 241.2, 243, 244.8, 246.6, 248.4, \n",
        "    250.2, 252, 253.8, 255.6, 257.4, 259.2, 261, 262.8, 264.6, 266.4, 268.2 ;\n",
        "}\n"
       ]
      }
     ],
     "prompt_number": 64
    },
    {
     "cell_type": "code",
     "collapsed": false,
     "input": [
      "from netCDF4 import Dataset\n",
      "import numpy as np\n",
      "\n",
      "# open the netCDF file to read from\n",
      "ncfile = Dataset(\"/Users/calvineh/Desktop/school/file\",mode='r', format='NETCDF4')"
     ],
     "language": "python",
     "metadata": {},
     "outputs": [],
     "prompt_number": 68
    },
    {
     "cell_type": "code",
     "collapsed": false,
     "input": [
      "# get the number of dimensions where dims is a dictionary  \n",
      "dims = ncfile.dimensions    \n",
      "ndims = len(dims)                        # the size is the actual # of dimensions\n",
      "\n",
      "print(\"number of dimensions  =  \" + str(ndims))  \n",
      "\n",
      "# print the name and size of each dimension  \n",
      "for key in dims:  \n",
      "  print(\"dimension[\"+key+\"] = \" + str(len(dims[key])))"
     ],
     "language": "python",
     "metadata": {},
     "outputs": [
      {
       "output_type": "stream",
       "stream": "stdout",
       "text": [
        "number of dimensions  =  2\n",
        "dimension[x] = 100\n",
        "dimension[y] = 100\n"
       ]
      }
     ],
     "prompt_number": 69
    },
    {
     "cell_type": "code",
     "collapsed": false,
     "input": [
      "# get the Variables where variables is again a dictionary\n",
      "vars = ncfile.variables \n",
      "\n",
      "# get the number of variables\n",
      "nvars = len(vars)\n",
      "print(\"Number of variables = \"+str(nvars))\n",
      "\n",
      "# for each variable, its dimensions and attributes\n",
      "for var in vars:\n",
      "    print(\"  variable \"+var)\n",
      "    print(\"Shape = \"+ str(vars[var].shape)) # get the dimensions of the variable\n",
      "    vdims = vars[var].dimensions\n",
      "    \n",
      "    # display the size of the variable\n",
      "    for vd in vdims:\n",
      "        print(\"Dimension [\"+vd+\"] = \"+str(len(dims[vd]))) \n",
      "        \n",
      "    # get the attributes for the variable where vattrs is a dictionary\n",
      "    vattrs = vars[var].ncattrs()\n",
      "    print(\"Number of attributes = \"+str(len(vattrs)))\n",
      "    for vat in vattrs:\n",
      "        print(\"Attribute [\"+vat+\"] = \" + str(getattr(vars[var],vat)))\n",
      "        \n",
      "    # display the variables data \n",
      "    vdata = vars[var][:]\n",
      "    print vdata"
     ],
     "language": "python",
     "metadata": {},
     "outputs": [
      {
       "output_type": "stream",
       "stream": "stdout",
       "text": [
        "Number of variables = 2\n",
        "  variable x\n",
        "Shape = (100,)\n",
        "Dimension [x] = 100\n",
        "Number of attributes = 2\n",
        "Attribute [units] = integers\n",
        "Attribute [long_name] = x data\n",
        "[ 180.          181.80000305  183.6000061   185.3999939   187.19999695\n",
        "  189.          190.80000305  192.6000061   194.3999939   196.19999695\n",
        "  198.          199.80000305  201.6000061   203.3999939   205.19999695\n",
        "  207.          208.80000305  210.6000061   212.3999939   214.19999695\n",
        "  216.          217.80000305  219.6000061   221.3999939   223.19999695\n",
        "  225.          226.80000305  228.6000061   230.3999939   232.19999695\n",
        "  234.          235.80000305  237.6000061   239.3999939   241.19999695\n",
        "  243.          244.80000305  246.6000061   248.3999939   250.19999695\n",
        "  252.          253.80000305  255.6000061   257.3999939   259.20001221\n",
        "  261.          262.79998779  264.6000061   266.3999939   268.20001221\n",
        "  270.          271.79998779  273.6000061   275.3999939   277.20001221\n",
        "  279.          280.79998779  282.6000061   284.3999939   286.20001221\n",
        "  288.          289.79998779  291.6000061   293.3999939   295.20001221\n",
        "  297.          298.79998779  300.6000061   302.3999939   304.20001221\n",
        "  306.          307.79998779  309.6000061   311.3999939   313.20001221\n",
        "  315.          316.79998779  318.6000061   320.3999939   322.20001221\n",
        "  324.          325.79998779  327.6000061   329.3999939   331.20001221\n",
        "  333.          334.79998779  336.6000061   338.3999939   340.20001221\n",
        "  342.          343.79998779  345.6000061   347.3999939   349.20001221\n",
        "  351.          352.79998779  354.6000061   356.3999939   358.20001221]"
       ]
      },
      {
       "output_type": "stream",
       "stream": "stdout",
       "text": [
        "\n",
        "  variable y\n",
        "Shape = (100,)\n",
        "Dimension [y] = 100\n",
        "Number of attributes = 2\n",
        "Attribute [units] = integers\n",
        "Attribute [long_name] = y data\n",
        "[  90.           91.80000305   93.59999847   95.40000153   97.19999695\n",
        "   99.          100.80000305  102.59999847  104.40000153  106.19999695\n",
        "  108.          109.80000305  111.59999847  113.40000153  115.19999695\n",
        "  117.          118.80000305  120.59999847  122.40000153  124.19999695\n",
        "  126.          127.80000305  129.6000061   131.3999939   133.19999695\n",
        "  135.          136.80000305  138.6000061   140.3999939   142.19999695\n",
        "  144.          145.80000305  147.6000061   149.3999939   151.19999695\n",
        "  153.          154.80000305  156.6000061   158.3999939   160.19999695\n",
        "  162.          163.80000305  165.6000061   167.3999939   169.19999695\n",
        "  171.          172.80000305  174.6000061   176.3999939   178.19999695\n",
        "  180.          181.80000305  183.6000061   185.3999939   187.19999695\n",
        "  189.          190.80000305  192.6000061   194.3999939   196.19999695\n",
        "  198.          199.80000305  201.6000061   203.3999939   205.19999695\n",
        "  207.          208.80000305  210.6000061   212.3999939   214.19999695\n",
        "  216.          217.80000305  219.6000061   221.3999939   223.19999695\n",
        "  225.          226.80000305  228.6000061   230.3999939   232.19999695\n",
        "  234.          235.80000305  237.6000061   239.3999939   241.19999695\n",
        "  243.          244.80000305  246.6000061   248.3999939   250.19999695\n",
        "  252.          253.80000305  255.6000061   257.3999939   259.20001221\n",
        "  261.          262.79998779  264.6000061   266.3999939   268.20001221]\n"
       ]
      }
     ],
     "prompt_number": 71
    },
    {
     "cell_type": "code",
     "collapsed": false,
     "input": [
      "# get the Global Attributes where gattrs\n",
      "gattrs = ncfile.ncattrs()#gattrs is a dictionary\n",
      "ngattrs = len(gattrs)  # get the number of attribute\n",
      "print(\"Number of global attributes = \"+str(ngattrs))\n",
      "\n",
      "#Now dispaly each of the global attributes\n",
      "for key in gattrs:\n",
      "    print(\"Global attribute[\"+key+\"] =  \"  + str(getattr(ncfile, key)))"
     ],
     "language": "python",
     "metadata": {},
     "outputs": [
      {
       "output_type": "stream",
       "stream": "stdout",
       "text": [
        "Number of global attributes = 5\n",
        "Global attribute[title] =  Sample 3D dataset"
       ]
      },
      {
       "output_type": "stream",
       "stream": "stdout",
       "text": [
        "\n",
        "Global attribute[date] =  Tuesday, Jan 27 2015\n",
        "Global attribute[author] =  Yours truely\n",
        "Global attribute[motto] =  Having fun in the process - thats our motto!\n",
        "Global attribute[description] =  A dataset with 3 dimensions, x,y,z filled with some funky degree information\n"
       ]
      }
     ],
     "prompt_number": 72
    },
    {
     "cell_type": "code",
     "collapsed": false,
     "input": [
      "# close the file.\n",
      "ncfile.close()\n",
      "print 'File Closed Successfully!'"
     ],
     "language": "python",
     "metadata": {},
     "outputs": [
      {
       "output_type": "stream",
       "stream": "stdout",
       "text": [
        "File Closed Successfully!\n"
       ]
      }
     ],
     "prompt_number": 73
    },
    {
     "cell_type": "code",
     "collapsed": false,
     "input": [],
     "language": "python",
     "metadata": {},
     "outputs": []
    }
   ],
   "metadata": {}
  }
 ]
}