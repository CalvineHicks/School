{
 "metadata": {
  "name": "",
  "signature": "sha256:e80bb04e3021314de94e345b2e90ee8b6b9f9202bd19e2af97b226682c647a4c"
 },
 "nbformat": 3,
 "nbformat_minor": 0,
 "worksheets": [
  {
   "cells": [
    {
     "cell_type": "markdown",
     "metadata": {},
     "source": [
      "#Average Position of Grid Points for Cylinder:\n",
      "- x,y,z had ranges -5.75 to 5.75,-5.75 to 5.75,-10 to 10.2\n",
      "- x,y,z had average values .01,.002,2.6\n",
      "- this shows that x and y are evenly distributed while z is not.\n",
      "\n",
      "#Average Position of Grid Points for Tornado:\n",
      "- x,y,z had ranges 0 to 47,0 to 47,0 to 47\n",
      "- x,y,z are evenly distributed because the data is of type uniform rectilinear grid.\n",
      "- it can't be anything other than evenly distributed\n",
      "\n",
      "##and now, ncdump of our example data file"
     ]
    },
    {
     "cell_type": "code",
     "collapsed": false,
     "input": [
      "def get_ncdump(fName, header_only=0):\n",
      "    if header_only:\n",
      "        szDump = !/usr/local/Cellar/netcdf/4.3.2_1/bin/ncdump -h $fName\n",
      "    else:\n",
      "        szDump = !/usr/local/Cellar/netcdf/4.3.2_1/bin/ncdump $fName\n",
      "    szDump = '\\n'.join(szDump)\n",
      "    szDump=szDump.encode('string_escape').replace('\\\\t','\\t').replace('\\\\n','\\n').replace('\\\\',' ')\n",
      "    return szDump"
     ],
     "language": "python",
     "metadata": {},
     "outputs": [],
     "prompt_number": 1
    },
    {
     "cell_type": "code",
     "collapsed": false,
     "input": [
      "a = get_ncdump('/Users/calvinehicks/Desktop/school/Scientific\\ Visualization/Assignment2_Data_Files/tos_O1_2001-2002.nc', header_only = 1)\n",
      "print a"
     ],
     "language": "python",
     "metadata": {},
     "outputs": [
      {
       "output_type": "stream",
       "stream": "stdout",
       "text": [
        "netcdf tos_O1_2001-2002 {\n",
        "dimensions:\n",
        "\tlon = 180 ;\n",
        "\tlat = 170 ;\n",
        "\ttime = UNLIMITED ; // (24 currently)\n",
        "\tbnds = 2 ;\n",
        "variables:\n",
        "\tdouble lon(lon) ;\n",
        "\t\tlon:standard_name = \"longitude\" ;\n",
        "\t\tlon:long_name = \"longitude\" ;\n",
        "\t\tlon:units = \"degrees_east\" ;\n",
        "\t\tlon:axis = \"X\" ;\n",
        "\t\tlon:bounds = \"lon_bnds\" ;\n",
        "\t\tlon:original_units = \"degrees_east\" ;\n",
        "\tdouble lon_bnds(lon, bnds) ;\n",
        "\tdouble lat(lat) ;\n",
        "\t\tlat:standard_name = \"latitude\" ;\n",
        "\t\tlat:long_name = \"latitude\" ;\n",
        "\t\tlat:units = \"degrees_north\" ;\n",
        "\t\tlat:axis = \"Y\" ;\n",
        "\t\tlat:bounds = \"lat_bnds\" ;\n",
        "\t\tlat:original_units = \"degrees_north\" ;\n",
        "\tdouble lat_bnds(lat, bnds) ;\n",
        "\tdouble time(time) ;\n",
        "\t\ttime:standard_name = \"time\" ;\n",
        "\t\ttime:long_name = \"time\" ;\n",
        "\t\ttime:units = \"days since 2001-1-1\" ;\n",
        "\t\ttime:axis = \"T\" ;\n",
        "\t\ttime:calendar = \"360_day\" ;\n",
        "\t\ttime:bounds = \"time_bnds\" ;\n",
        "\t\ttime:original_units = \"seconds since 2001-1-1\" ;\n",
        "\tdouble time_bnds(time, bnds) ;\n",
        "\tfloat tos(time, lat, lon) ;\n",
        "\t\ttos:standard_name = \"sea_surface_temperature\" ;\n",
        "\t\ttos:long_name = \"Sea Surface Temperature\" ;\n",
        "\t\ttos:units = \"K\" ;\n",
        "\t\ttos:cell_methods = \"time: mean (interval: 30 minutes)\" ;\n",
        "\t\ttos:_FillValue = 1.e+20f ;\n",
        "\t\ttos:missing_value = 1.e+20f ;\n",
        "\t\ttos:original_name = \"sosstsst\" ;\n",
        "\t\ttos:original_units = \"degC\" ;\n",
        "\t\ttos:history = \" At   16:37:23 on 01/11/2005: CMOR altered the data in the following ways: added 2.73150E+02 to yield output units;  Cyclical dimension was output starting at a different lon;\" ;\n",
        "\n",
        "// global attributes:\n",
        "\t\t:title = \"IPSL  model output prepared for IPCC Fourth Assessment SRES A2 experiment\" ;\n",
        "\t\t:institution = \"IPSL (Institut Pierre Simon Laplace, Paris, France)\" ;\n",
        "\t\t:source = \"IPSL-CM4_v1 (2003) : atmosphere : LMDZ (IPSL-CM4_IPCC, 96x71x19) ; ocean ORCA2 (ipsl_cm4_v1_8, 2x2L31); sea ice LIM (ipsl_cm4_v\" ;\n",
        "\t\t:contact = \"Sebastien Denvil, sebastien.denvil@ipsl.jussieu.fr\" ;\n",
        "\t\t:project_id = \"IPCC Fourth Assessment\" ;\n",
        "\t\t:table_id = \"Table O1 (13 November 2004)\" ;\n",
        "\t\t:experiment_id = \"SRES A2 experiment\" ;\n",
        "\t\t:realization = 1 ;\n",
        "\t\t:cmor_version = 0.96f ;\n",
        "\t\t:Conventions = \"CF-1.0\" ;\n",
        "\t\t:history = \"YYYY/MM/JJ: data generated; YYYY/MM/JJ+1 data transformed  At 16:37:23 on 01/11/2005, CMOR rewrote data to comply with CF standards and IPCC Fourth Assessment requirements\" ;\n",
        "\t\t:references = \"Dufresne et al, Journal of Climate, 2015, vol XX, p 136\" ;\n",
        "\t\t:comment = \"Test drive\" ;\n",
        "}\n"
       ]
      }
     ],
     "prompt_number": 2
    },
    {
     "cell_type": "markdown",
     "metadata": {},
     "source": [
      "\n",
      "\n",
      "##The above dataset contains ocean surface temperature information based off longitude latitude and time.\n",
      "\n",
      "\n",
      "\n",
      "\n",
      "\n",
      "."
     ]
    },
    {
     "cell_type": "code",
     "collapsed": false,
     "input": [
      "from netCDF4 import Dataset    \n",
      "import numpy as np \n",
      "\n",
      "# open a new netCDF file to write to\n",
      "ncfile = Dataset('/Users/calvinehicks/Desktop/school/test/file.nc',mode='w', format='NETCDF4') "
     ],
     "language": "python",
     "metadata": {},
     "outputs": [],
     "prompt_number": 4
    },
    {
     "cell_type": "code",
     "collapsed": false,
     "input": [
      "#imports netCDF and creates a file to write to"
     ],
     "language": "python",
     "metadata": {},
     "outputs": [],
     "prompt_number": 5
    },
    {
     "cell_type": "code",
     "collapsed": false,
     "input": [
      "# create 2 dimensions x,y each with size 100. \n",
      "x_dim  = ncfile.createDimension('x',100)\n",
      "y_dim  = ncfile.createDimension('y',100)\n",
      "\n",
      "# get the size of each dimension\n",
      "size_x = len(x_dim)\n",
      "size_y = len(y_dim)"
     ],
     "language": "python",
     "metadata": {},
     "outputs": [],
     "prompt_number": 6
    },
    {
     "cell_type": "code",
     "collapsed": false,
     "input": [
      "#creates a 2 dementional matrix"
     ],
     "language": "python",
     "metadata": {},
     "outputs": [],
     "prompt_number": 7
    },
    {
     "cell_type": "code",
     "collapsed": false,
     "input": [
      "vx = ncfile.createVariable('x', np.float32, ('x',))\n",
      "vx.units = 'integers'\n",
      "vx.long_name = 'x data'\n",
      "\n",
      "vy = ncfile.createVariable('y', np.float32, ('y',))\n",
      "vy.units = 'integers'\n",
      "vy.long_name = 'y data'"
     ],
     "language": "python",
     "metadata": {},
     "outputs": [],
     "prompt_number": 8
    },
    {
     "cell_type": "code",
     "collapsed": false,
     "input": [
      "# write data to variable.\n",
      "vx[:] = 180. + (180./size_x)*np.arange(size_x)\n",
      "vy[:] =  90. + (180./size_y)*np.arange(size_y)"
     ],
     "language": "python",
     "metadata": {},
     "outputs": [],
     "prompt_number": 9
    },
    {
     "cell_type": "markdown",
     "metadata": {},
     "source": [
      "# in above code\n",
      "##adding a portion of the number 180 to x and 90 to y with initial starting points (same math equation used in example)"
     ]
    },
    {
     "cell_type": "code",
     "collapsed": false,
     "input": [
      "# lets add some attributes to describe us and our Dataset\n",
      "ncfile.title  = 'Sample 3D dataset'\n",
      "ncfile.date   = 'Tuesday, Jan 27 2015'\n",
      "ncfile.author = 'Yours truely'\n",
      "ncfile.motto  = 'Having fun in the process - thats our motto!'\n",
      "ncfile.description = 'A dataset with 3 dimensions, x,y,z filled with some funky degree information'"
     ],
     "language": "python",
     "metadata": {},
     "outputs": []
    },
    {
     "cell_type": "code",
     "collapsed": false,
     "input": [
      "# close the file.\n",
      "ncfile.close()\n",
      "print 'File Successfully Written!'"
     ],
     "language": "python",
     "metadata": {},
     "outputs": [
      {
       "output_type": "stream",
       "stream": "stdout",
       "text": [
        "File Successfully Written!\n"
       ]
      }
     ],
     "prompt_number": 10
    },
    {
     "cell_type": "code",
     "collapsed": false,
     "input": [
      "def get_ncdump(fName, header_only=0):\n",
      "    if header_only:\n",
      "        szDump = !/usr/local/Cellar/netcdf/4.3.2_1/bin/ncdump -h $fName\n",
      "    else:\n",
      "        szDump = !/usr/local/Cellar/netcdf/4.3.2_1/bin/ncdump $fName\n",
      "    szDump = '\\n'.join(szDump)\n",
      "    szDump=szDump.encode('string_escape').replace('\\\\t','\\t').replace('\\\\n','\\n').replace('\\\\',' ')\n",
      "    return szDump\n",
      "\n",
      "ncdata = get_ncdump('/Users/calvinehicks/Desktop/school/test/file.nc', header_only = 0)\n",
      "print ncdata"
     ],
     "language": "python",
     "metadata": {},
     "outputs": [
      {
       "output_type": "stream",
       "stream": "stdout",
       "text": [
        "/usr/local/Cellar/netcdf/4.3.2_1/bin/ncdump: /Users/calvinehicks/Desktop/school/file: No such file or directory\n"
       ]
      }
     ],
     "prompt_number": 11
    },
    {
     "cell_type": "code",
     "collapsed": false,
     "input": [
      "from netCDF4 import Dataset\n",
      "import numpy as np\n",
      "\n",
      "# open the netCDF file to read from\n",
      "ncfile = Dataset(\"/Users/calvinehicks/Desktop/school/file\",mode='r', format='NETCDF4')"
     ],
     "language": "python",
     "metadata": {},
     "outputs": [
      {
       "ename": "RuntimeError",
       "evalue": "No such file or directory",
       "output_type": "pyerr",
       "traceback": [
        "\u001b[0;31m---------------------------------------------------------------------------\u001b[0m\n\u001b[0;31mRuntimeError\u001b[0m                              Traceback (most recent call last)",
        "\u001b[0;32m<ipython-input-12-145ceed430e1>\u001b[0m in \u001b[0;36m<module>\u001b[0;34m()\u001b[0m\n\u001b[1;32m      3\u001b[0m \u001b[0;34m\u001b[0m\u001b[0m\n\u001b[1;32m      4\u001b[0m \u001b[0;31m# open the netCDF file to read from\u001b[0m\u001b[0;34m\u001b[0m\u001b[0;34m\u001b[0m\u001b[0m\n\u001b[0;32m----> 5\u001b[0;31m \u001b[0mncfile\u001b[0m \u001b[0;34m=\u001b[0m \u001b[0mDataset\u001b[0m\u001b[0;34m(\u001b[0m\u001b[0;34m\"/Users/calvinehicks/Desktop/school/file\"\u001b[0m\u001b[0;34m,\u001b[0m\u001b[0mmode\u001b[0m\u001b[0;34m=\u001b[0m\u001b[0;34m'r'\u001b[0m\u001b[0;34m,\u001b[0m \u001b[0mformat\u001b[0m\u001b[0;34m=\u001b[0m\u001b[0;34m'NETCDF4'\u001b[0m\u001b[0;34m)\u001b[0m\u001b[0;34m\u001b[0m\u001b[0m\n\u001b[0m",
        "\u001b[0;32m/Users/calvinehicks/anaconda/lib/python2.7/site-packages/netCDF4.so\u001b[0m in \u001b[0;36mnetCDF4.Dataset.__init__ (netCDF4.c:19736)\u001b[0;34m()\u001b[0m\n",
        "\u001b[0;31mRuntimeError\u001b[0m: No such file or directory"
       ]
      }
     ],
     "prompt_number": 12
    },
    {
     "cell_type": "code",
     "collapsed": false,
     "input": [
      "# get the number of dimensions where dims is a dictionary  \n",
      "dims = ncfile.dimensions    \n",
      "ndims = len(dims)                        # the size is the actual # of dimensions\n",
      "\n",
      "print(\"number of dimensions  =  \" + str(ndims))  \n",
      "\n",
      "# print the name and size of each dimension  \n",
      "for key in dims:  \n",
      "  print(\"dimension[\"+key+\"] = \" + str(len(dims[key])))"
     ],
     "language": "python",
     "metadata": {},
     "outputs": []
    },
    {
     "cell_type": "code",
     "collapsed": false,
     "input": [
      "# get the Variables where variables is again a dictionary\n",
      "vars = ncfile.variables \n",
      "\n",
      "# get the number of variables\n",
      "nvars = len(vars)\n",
      "print(\"Number of variables = \"+str(nvars))\n",
      "\n",
      "# for each variable, its dimensions and attributes\n",
      "for var in vars:\n",
      "    print(\"  variable \"+var)\n",
      "    print(\"Shape = \"+ str(vars[var].shape)) # get the dimensions of the variable\n",
      "    vdims = vars[var].dimensions\n",
      "    \n",
      "    # display the size of the variable\n",
      "    for vd in vdims:\n",
      "        print(\"Dimension [\"+vd+\"] = \"+str(len(dims[vd]))) \n",
      "        \n",
      "    # get the attributes for the variable where vattrs is a dictionary\n",
      "    vattrs = vars[var].ncattrs()\n",
      "    print(\"Number of attributes = \"+str(len(vattrs)))\n",
      "    for vat in vattrs:\n",
      "        print(\"Attribute [\"+vat+\"] = \" + str(getattr(vars[var],vat)))\n",
      "        \n",
      "    # display the variables data \n",
      "    vdata = vars[var][:]\n",
      "    print vdata"
     ],
     "language": "python",
     "metadata": {},
     "outputs": []
    },
    {
     "cell_type": "code",
     "collapsed": false,
     "input": [
      "# get the Global Attributes where gattrs\n",
      "gattrs = ncfile.ncattrs()#gattrs is a dictionary\n",
      "ngattrs = len(gattrs)  # get the number of attribute\n",
      "print(\"Number of global attributes = \"+str(ngattrs))\n",
      "\n",
      "#Now dispaly each of the global attributes\n",
      "for key in gattrs:\n",
      "    print(\"Global attribute[\"+key+\"] =  \"  + str(getattr(ncfile, key)))"
     ],
     "language": "python",
     "metadata": {},
     "outputs": []
    },
    {
     "cell_type": "code",
     "collapsed": false,
     "input": [
      "# close the file.\n",
      "ncfile.close()\n",
      "print 'File Closed Successfully!'"
     ],
     "language": "python",
     "metadata": {},
     "outputs": []
    },
    {
     "cell_type": "code",
     "collapsed": false,
     "input": [],
     "language": "python",
     "metadata": {},
     "outputs": []
    }
   ],
   "metadata": {}
  }
 ]
}